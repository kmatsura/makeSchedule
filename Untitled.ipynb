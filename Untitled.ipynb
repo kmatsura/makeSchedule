{
 "cells": [
  {
   "cell_type": "code",
   "execution_count": 3,
   "metadata": {},
   "outputs": [],
   "source": [
    "event = {\n",
    "  \"destination\": \"xxxxxxxxxx\", \n",
    "  \"events\": [\n",
    "    {\n",
    "      \"replyToken\": \"0f3779fba3b349968c5d07db31eab56f\",\n",
    "      \"type\": \"message\",\n",
    "      \"timestamp\": 1462629479859,\n",
    "      \"source\": {\n",
    "        \"type\": \"user\",\n",
    "        \"userId\": \"U4af4980629...\"\n",
    "      },\n",
    "      \"message\": {\n",
    "        \"id\": \"325708\",\n",
    "        \"type\": \"text\",\n",
    "        \"text\": \"Hello, world ここにLINEのメッセージが入っている\"\n",
    "      }\n",
    "    },\n",
    "    {\n",
    "      \"replyToken\": \"8cf9239d56244f4197887e939187e19e\",\n",
    "      \"type\": \"follow\",\n",
    "      \"timestamp\": 1462629479859,\n",
    "      \"source\": {\n",
    "        \"type\": \"user\",\n",
    "        \"userId\": \"U4af4980629...\"\n",
    "      }\n",
    "    }\n",
    "  ]\n",
    "}"
   ]
  },
  {
   "cell_type": "code",
   "execution_count": 8,
   "metadata": {},
   "outputs": [
    {
     "data": {
      "text/plain": [
       "'Hello, world ここにLINEのメッセージが入っている'"
      ]
     },
     "execution_count": 8,
     "metadata": {},
     "output_type": "execute_result"
    }
   ],
   "source": [
    "event[\"events\"][0][\"message\"][\"text\"]"
   ]
  },
  {
   "cell_type": "code",
   "execution_count": null,
   "metadata": {},
   "outputs": [],
   "source": []
  }
 ],
 "metadata": {
  "kernelspec": {
   "display_name": "Python 3",
   "language": "python",
   "name": "python3"
  },
  "language_info": {
   "codemirror_mode": {
    "name": "ipython",
    "version": 3
   },
   "file_extension": ".py",
   "mimetype": "text/x-python",
   "name": "python",
   "nbconvert_exporter": "python",
   "pygments_lexer": "ipython3",
   "version": "3.7.5"
  }
 },
 "nbformat": 4,
 "nbformat_minor": 4
}
