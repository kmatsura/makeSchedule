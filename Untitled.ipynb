{
 "cells": [
  {
   "cell_type": "code",
   "execution_count": 1,
   "metadata": {},
   "outputs": [],
   "source": [
    "event = {\n",
    "  \"destination\": \"xxxxxxxxxx\", \n",
    "  \"events\": [\n",
    "    {\n",
    "      \"replyToken\": \"0f3779fba3b349968c5d07db31eab56f\",\n",
    "      \"type\": \"message\",\n",
    "      \"timestamp\": 1462629479859,\n",
    "      \"source\": {\n",
    "        \"type\": \"user\",\n",
    "        \"userId\": \"U4af4980629...\"\n",
    "      },\n",
    "      \"message\": {\n",
    "        \"id\": \"325708\",\n",
    "        \"type\": \"text\",\n",
    "        \"text\": \"Hello, world ここにLINEのメッセージが入っている\"\n",
    "      }\n",
    "    },\n",
    "    {\n",
    "      \"replyToken\": \"8cf9239d56244f4197887e939187e19e\",\n",
    "      \"type\": \"follow\",\n",
    "      \"timestamp\": 1462629479859,\n",
    "      \"source\": {\n",
    "        \"type\": \"user\",\n",
    "        \"userId\": \"U4af4980629...\"\n",
    "      }\n",
    "    }\n",
    "  ]\n",
    "}"
   ]
  },
  {
   "cell_type": "code",
   "execution_count": 2,
   "metadata": {},
   "outputs": [
    {
     "ename": "KeyError",
     "evalue": "'body'",
     "output_type": "error",
     "traceback": [
      "\u001b[0;31m---------------------------------------------------------------------------\u001b[0m",
      "\u001b[0;31mKeyError\u001b[0m                                  Traceback (most recent call last)",
      "\u001b[0;32m<ipython-input-2-ccd17dc762b7>\u001b[0m in \u001b[0;36m<module>\u001b[0;34m\u001b[0m\n\u001b[0;32m----> 1\u001b[0;31m \u001b[0mevent\u001b[0m\u001b[0;34m[\u001b[0m\u001b[0;34m\"body\"\u001b[0m\u001b[0;34m]\u001b[0m\u001b[0;34m\u001b[0m\u001b[0;34m\u001b[0m\u001b[0m\n\u001b[0m",
      "\u001b[0;31mKeyError\u001b[0m: 'body'"
     ]
    }
   ],
   "source": [
    "event[\"]"
   ]
  },
  {
   "cell_type": "code",
   "execution_count": null,
   "metadata": {},
   "outputs": [],
   "source": []
  }
 ],
 "metadata": {
  "kernelspec": {
   "display_name": "Python 3",
   "language": "python",
   "name": "python3"
  },
  "language_info": {
   "codemirror_mode": {
    "name": "ipython",
    "version": 3
   },
   "file_extension": ".py",
   "mimetype": "text/x-python",
   "name": "python",
   "nbconvert_exporter": "python",
   "pygments_lexer": "ipython3",
   "version": "3.7.5"
  }
 },
 "nbformat": 4,
 "nbformat_minor": 4
}
